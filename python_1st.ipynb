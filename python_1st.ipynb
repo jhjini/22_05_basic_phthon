{
  "nbformat": 4,
  "nbformat_minor": 0,
  "metadata": {
    "colab": {
      "provenance": [],
      "authorship_tag": "ABX9TyOjOKlk3LTPPi/XVZEscm76",
      "include_colab_link": true
    },
    "kernelspec": {
      "name": "python3",
      "display_name": "Python 3"
    },
    "language_info": {
      "name": "python"
    }
  },
  "cells": [
    {
      "cell_type": "markdown",
      "metadata": {
        "id": "view-in-github",
        "colab_type": "text"
      },
      "source": [
        "<a href=\"https://colab.research.google.com/github/jhjini/22_05_basic_phthon/blob/main/python_1st.ipynb\" target=\"_parent\"><img src=\"https://colab.research.google.com/assets/colab-badge.svg\" alt=\"Open In Colab\"/></a>"
      ]
    },
    {
      "cell_type": "markdown",
      "source": [
        "1. \"안녕하세요\"를 화면에 출력해보자."
      ],
      "metadata": {
        "id": "pk4rJK9qZHdB"
      }
    },
    {
      "cell_type": "code",
      "source": [
        "print(\"안녕하세요.\")"
      ],
      "metadata": {
        "colab": {
          "base_uri": "https://localhost:8080/"
        },
        "id": "MXb6NR7MZSUs",
        "outputId": "c1fd539b-e0ff-4bc5-b171-69f7b86cd827"
      },
      "execution_count": 1,
      "outputs": [
        {
          "output_type": "stream",
          "name": "stdout",
          "text": [
            "안녕하세요.\n"
          ]
        }
      ]
    },
    {
      "cell_type": "markdown",
      "source": [
        "2. programming에 입문하신것을 축하드립니다.를 출력하시오."
      ],
      "metadata": {
        "id": "v8sx8sprZ7P9"
      }
    },
    {
      "cell_type": "code",
      "source": [
        "print(\"programming에 입문하신것을 축하드립니다.\")"
      ],
      "metadata": {
        "colab": {
          "base_uri": "https://localhost:8080/"
        },
        "id": "Otvbfg3EaRaW",
        "outputId": "3e5f8ba8-5706-44e6-f8a3-cc05294ca3e2"
      },
      "execution_count": 2,
      "outputs": [
        {
          "output_type": "stream",
          "name": "stdout",
          "text": [
            "programming에 입문하신것을 축하드립니다.\n"
          ]
        }
      ]
    }
  ]
}