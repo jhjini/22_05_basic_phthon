{
  "nbformat": 4,
  "nbformat_minor": 0,
  "metadata": {
    "colab": {
      "provenance": [],
      "authorship_tag": "ABX9TyN/l2L3Ty2s13F3vRj0Ph4A",
      "include_colab_link": true
    },
    "kernelspec": {
      "name": "python3",
      "display_name": "Python 3"
    },
    "language_info": {
      "name": "python"
    }
  },
  "cells": [
    {
      "cell_type": "markdown",
      "metadata": {
        "id": "view-in-github",
        "colab_type": "text"
      },
      "source": [
        "<a href=\"https://colab.research.google.com/github/jhjini/22_05_basic_phthon/blob/main/Untitled0.ipynb\" target=\"_parent\"><img src=\"https://colab.research.google.com/assets/colab-badge.svg\" alt=\"Open In Colab\"/></a>"
      ]
    },
    {
      "cell_type": "code",
      "execution_count": 1,
      "metadata": {
        "colab": {
          "base_uri": "https://localhost:8080/"
        },
        "id": "Q-J_NajZO1wx",
        "outputId": "114fe408-63c1-4e52-e85e-b1c832789ab3"
      },
      "outputs": [
        {
          "output_type": "stream",
          "name": "stdout",
          "text": [
            "x= 10\n",
            "x= 3.14\n",
            "x= Hello World!\n"
          ]
        }
      ],
      "source": [
        "x=10\n",
        "print(\"x=\", x)\n",
        "x=3.14\n",
        "print(\"x=\", x)\n",
        "x=\"Hello World!\"\n",
        "print(\"x=\", x)"
      ]
    },
    {
      "cell_type": "code",
      "source": [
        "x=input(\"정수를 입력하시오:\")\n",
        "y=input(\"정수를 입력하시오:\")\n",
        "print(x+y)"
      ],
      "metadata": {
        "colab": {
          "base_uri": "https://localhost:8080/"
        },
        "id": "AUUkfMXnSqbT",
        "outputId": "117c2437-9985-4e21-f965-41a4784bb297"
      },
      "execution_count": 3,
      "outputs": [
        {
          "output_type": "stream",
          "name": "stdout",
          "text": [
            "정수를 입력하시오:100\n",
            "정수를 입력하시오:200\n",
            "100200\n"
          ]
        }
      ]
    },
    {
      "cell_type": "code",
      "source": [
        "x=int(input(\"정수를 입력하시오:\"))\n",
        "y=int(input(\"정수를 입력하시오:\"))\n",
        "print(x+y)"
      ],
      "metadata": {
        "colab": {
          "base_uri": "https://localhost:8080/"
        },
        "id": "MAPZvdC2TZsz",
        "outputId": "2a1084ca-5872-47d7-81c3-99d30a016c94"
      },
      "execution_count": 4,
      "outputs": [
        {
          "output_type": "stream",
          "name": "stdout",
          "text": [
            "정수를 입력하시오:100\n",
            "정수를 입력하시오:200\n",
            "300\n"
          ]
        }
      ]
    },
    {
      "cell_type": "code",
      "source": [
        "t=input(\"정수를 입력하시오:\")\n",
        "x=int(t)\n",
        "\n",
        "t=input(\"정수를 입력하시오:\")\n",
        "y=int(t)\n",
        "\n",
        "print(x+y)"
      ],
      "metadata": {
        "colab": {
          "base_uri": "https://localhost:8080/"
        },
        "id": "yh5aWlCXU7st",
        "outputId": "cb967e80-db24-4def-b5f3-090e3bc06a9a"
      },
      "execution_count": 5,
      "outputs": [
        {
          "output_type": "stream",
          "name": "stdout",
          "text": [
            "정수를 입력하시오:100\n",
            "정수를 입력하시오:200\n",
            "300\n"
          ]
        }
      ]
    }
  ]
}